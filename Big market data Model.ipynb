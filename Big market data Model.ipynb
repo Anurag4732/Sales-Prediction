{
 "cells": [
  {
   "cell_type": "code",
   "execution_count": 16,
   "metadata": {},
   "outputs": [],
   "source": [
    "import pandas as pd\n",
    "import numpy as np\n",
    "import matplotlib.pyplot as plt\n",
    "import seaborn as sns\n",
    "from sklearn.linear_model import Ridge\n",
    "from sklearn.linear_model import LinearRegression\n",
    "from sklearn.tree import DecisionTreeRegressor\n",
    "from sklearn.ensemble import GradientBoostingRegressor\n",
    "from sklearn.ensemble import RandomForestRegressor\n",
    "from sklearn.ensemble import AdaBoostRegressor\n",
    "from sklearn.model_selection import train_test_split\n",
    "from sklearn import metrics\n",
    "sns.set()"
   ]
  },
  {
   "cell_type": "code",
   "execution_count": 49,
   "metadata": {},
   "outputs": [],
   "source": [
    "df = pd.read_csv('Big market sales data.csv')\n",
    "df.loc[df[df['Outlet_Identifier'] == 'OUT045'].index, 'Outlet_Size'] = 'High'\n",
    "df.loc[df[df['Outlet_Identifier'] == 'OUT017'].index, 'Outlet_Size'] = 'High'\n",
    "df.loc[df[df['Outlet_Identifier'] == 'OUT010'].index, 'Outlet_Size'] = 'High'\n",
    "df['Item_Fat_Content'].replace(['LF', 'low fat'], 'Low Fat', inplace = True)\n",
    "df['Item_Fat_Content'].replace('reg', 'Regular', inplace = True)\n",
    "df.loc[df[df['Item_Weight'].isna()].index, 'Item_Weight'] = df['Item_Weight'].mean()"
   ]
  },
  {
   "cell_type": "code",
   "execution_count": 46,
   "metadata": {},
   "outputs": [],
   "source": [
    "# df['Item_Fat_Content'] = df['Item_Fat_Content'].map((df.groupby(['Item_Fat_Content'])['Item_Outlet_Sales'].sum()/df.groupby(['Item_Fat_Content'])['Item_Outlet_Sales'].count()).to_dict())\n",
    "df['Outlet_Type'] = df['Outlet_Type'].map((df.groupby(['Outlet_Type'])['Item_Outlet_Sales'].sum()/df.groupby(['Outlet_Type'])['Item_Outlet_Sales'].count()).to_dict())\n",
    "# df['Outlet_Size'] = df['Outlet_Size'].map((df.groupby(['Outlet_Size'])['Item_Outlet_Sales'].sum()/df.groupby(['Outlet_Size'])['Item_Outlet_Sales'].count()).to_dict())\n",
    "df['Outlet_Location_Type'] = df['Outlet_Location_Type'].map((df.groupby(['Outlet_Location_Type'])['Item_Outlet_Sales'].sum()/df.groupby(['Outlet_Location_Type'])['Item_Outlet_Sales'].count()).to_dict())\n",
    "df['Item_Type'] = df['Item_Type'].map((df.groupby(['Item_Type'])['Item_Outlet_Sales'].sum()/df.groupby(['Item_Type'])['Item_Outlet_Sales'].count()).to_dict())\n",
    "df['Outlet_Identifier_encoded'] = df['Outlet_Identifier'].map((df.groupby(['Outlet_Identifier'])['Item_Identifier'].count()/df['Item_Identifier'].nunique()).to_dict())\n",
    "# df = pd.merge(df, df.groupby(['Outlet_Identifier', 'Item_Type'])['Item_Outlet_Sales'].mean().reset_index(), on = ['Outlet_Identifier', 'Item_Type'], suffixes=['', '_mean'])\n"
   ]
  },
  {
   "cell_type": "code",
   "execution_count": 47,
   "metadata": {},
   "outputs": [
    {
     "data": {
      "text/plain": [
       "Item_Outlet_Sales            1.000000\n",
       "Item_MRP                     0.567574\n",
       "Outlet_Type                  0.489464\n",
       "Outlet_Identifier_encoded    0.415103\n",
       "Outlet_Location_Type         0.111828\n",
       "Item_Type                    0.068843\n",
       "Item_Weight                  0.011550\n",
       "Outlet_Establishment_Year   -0.049135\n",
       "Item_Visibility             -0.128625\n",
       "Name: Item_Outlet_Sales, dtype: float64"
      ]
     },
     "execution_count": 47,
     "metadata": {},
     "output_type": "execute_result"
    }
   ],
   "source": [
    "df.corr()['Item_Outlet_Sales'].sort_values(ascending = False)"
   ]
  },
  {
   "cell_type": "code",
   "execution_count": null,
   "metadata": {},
   "outputs": [],
   "source": [
    "x = df[['Item_MRP', 'Outlet_Type', 'Outlet_Identifier_encoded','Item_Type','Item_Visibility', 'Outlet_Size']]\n",
    "y = df['Item_Outlet_Sales']\n",
    "x_train,x_test, y_train, y_test = train_test_split(x, y, random_state = 42, test_size = 0.2)\n",
    "\n",
    "model = RandomForestRegressor(random_state = 42, criterion = 'mse', max_depth = 6, min_samples_leaf = 10,\n",
    "                              max_features = 'auto', n_estimators = 80)\n",
    "\n",
    "model.fit(x_train, y_train)\n",
    "pred = model.predict(x_test)\n",
    "print(model.score(x_train, y_train))\n",
    "print(model.score(x_test, y_test))\n",
    "print(model.feature_importances_)\n",
    "print(np.sqrt(metrics.mean_squared_error(y_test, pred)))\n",
    "# 0.6199273088429499\n",
    "# 0.6195019028796055\n",
    "# [0.57075229 0.17614554 0.18426108 0.01125856 0.00600452 0.051578  ]\n",
    "# 1016.9476084724595\n"
   ]
  },
  {
   "cell_type": "code",
   "execution_count": null,
   "metadata": {},
   "outputs": [],
   "source": []
  },
  {
   "cell_type": "code",
   "execution_count": null,
   "metadata": {},
   "outputs": [],
   "source": []
  },
  {
   "cell_type": "code",
   "execution_count": 5,
   "metadata": {},
   "outputs": [],
   "source": []
  },
  {
   "cell_type": "code",
   "execution_count": 6,
   "metadata": {},
   "outputs": [],
   "source": []
  },
  {
   "cell_type": "code",
   "execution_count": null,
   "metadata": {},
   "outputs": [],
   "source": []
  },
  {
   "cell_type": "code",
   "execution_count": null,
   "metadata": {},
   "outputs": [],
   "source": []
  },
  {
   "cell_type": "code",
   "execution_count": null,
   "metadata": {},
   "outputs": [],
   "source": []
  },
  {
   "cell_type": "code",
   "execution_count": 31,
   "metadata": {},
   "outputs": [],
   "source": []
  },
  {
   "cell_type": "code",
   "execution_count": null,
   "metadata": {},
   "outputs": [],
   "source": []
  },
  {
   "cell_type": "code",
   "execution_count": null,
   "metadata": {},
   "outputs": [],
   "source": []
  },
  {
   "cell_type": "code",
   "execution_count": null,
   "metadata": {},
   "outputs": [],
   "source": []
  },
  {
   "cell_type": "markdown",
   "metadata": {},
   "source": [
    "## Test Data"
   ]
  },
  {
   "cell_type": "code",
   "execution_count": 50,
   "metadata": {},
   "outputs": [],
   "source": [
    "test_df = pd.read_csv('Big_market_test_data.csv')\n",
    "test_df.loc[test_df[test_df['Outlet_Identifier'] == 'OUT045'].index, 'Outlet_Size'] = 'High'\n",
    "test_df.loc[test_df[test_df['Outlet_Identifier'] == 'OUT017'].index, 'Outlet_Size'] = 'High'\n",
    "test_df.loc[test_df[test_df['Outlet_Identifier'] == 'OUT010'].index, 'Outlet_Size'] = 'High'\n",
    "test_df.loc[test_df[test_df['Item_Weight'].isna()].index, 'Item_Weight'] = test_df['Item_Weight'].mean()\n",
    "\n",
    "test_df['Item_Fat_Content'].replace(['LF', 'low fat'], 'Low Fat', inplace = True)\n",
    "test_df['Item_Fat_Content'].replace('reg', 'Regular', inplace = True)\n",
    "\n",
    "test_df['Outlet_Type'] = test_df['Outlet_Type'].map((df.groupby(['Outlet_Type'])['Item_Outlet_Sales'].sum()/df.groupby(['Outlet_Type'])['Item_Outlet_Sales'].count()).to_dict())\n",
    "\n",
    "test_df['Outlet_Location_Type'] = test_df['Outlet_Location_Type'].map((df.groupby(['Outlet_Location_Type'])['Item_Outlet_Sales'].sum()/df.groupby(['Outlet_Location_Type'])['Item_Outlet_Sales'].count()).to_dict())\n",
    "test_df['Item_Type'] = test_df['Item_Type'].map((df.groupby(['Item_Type'])['Item_Outlet_Sales'].sum()/df.groupby(['Item_Type'])['Item_Outlet_Sales'].count()).to_dict())\n",
    "test_df['Outlet_Identifier_encoded'] = test_df['Outlet_Identifier'].map((test_df.groupby(['Outlet_Identifier'])['Item_Identifier'].count()/test_df['Item_Identifier'].nunique()).to_dict())\n"
   ]
  },
  {
   "cell_type": "code",
   "execution_count": 51,
   "metadata": {},
   "outputs": [
    {
     "data": {
      "text/plain": [
       "Item_Identifier              0\n",
       "Item_Weight                  0\n",
       "Item_Fat_Content             0\n",
       "Item_Visibility              0\n",
       "Item_Type                    0\n",
       "Item_MRP                     0\n",
       "Outlet_Identifier            0\n",
       "Outlet_Establishment_Year    0\n",
       "Outlet_Size                  0\n",
       "Outlet_Location_Type         0\n",
       "Outlet_Type                  0\n",
       "Outlet_Identifier_encoded    0\n",
       "dtype: int64"
      ]
     },
     "execution_count": 51,
     "metadata": {},
     "output_type": "execute_result"
    }
   ],
   "source": [
    "test_df.isna().sum()"
   ]
  },
  {
   "cell_type": "code",
   "execution_count": 52,
   "metadata": {},
   "outputs": [
    {
     "data": {
      "text/html": [
       "<div>\n",
       "<style scoped>\n",
       "    .dataframe tbody tr th:only-of-type {\n",
       "        vertical-align: middle;\n",
       "    }\n",
       "\n",
       "    .dataframe tbody tr th {\n",
       "        vertical-align: top;\n",
       "    }\n",
       "\n",
       "    .dataframe thead th {\n",
       "        text-align: right;\n",
       "    }\n",
       "</style>\n",
       "<table border=\"1\" class=\"dataframe\">\n",
       "  <thead>\n",
       "    <tr style=\"text-align: right;\">\n",
       "      <th></th>\n",
       "      <th>Item_MRP</th>\n",
       "      <th>Outlet_Type</th>\n",
       "      <th>Outlet_Identifier_encoded</th>\n",
       "      <th>Item_Type</th>\n",
       "      <th>Item_Visibility</th>\n",
       "    </tr>\n",
       "  </thead>\n",
       "  <tbody>\n",
       "    <tr>\n",
       "      <td>549</td>\n",
       "      <td>171.3448</td>\n",
       "      <td>2316.181148</td>\n",
       "      <td>0.596536</td>\n",
       "      <td>2289.009592</td>\n",
       "      <td>0.035206</td>\n",
       "    </tr>\n",
       "  </tbody>\n",
       "</table>\n",
       "</div>"
      ],
      "text/plain": [
       "     Item_MRP  Outlet_Type  Outlet_Identifier_encoded    Item_Type  \\\n",
       "549  171.3448  2316.181148                   0.596536  2289.009592   \n",
       "\n",
       "     Item_Visibility  \n",
       "549         0.035206  "
      ]
     },
     "execution_count": 52,
     "metadata": {},
     "output_type": "execute_result"
    }
   ],
   "source": [
    "x_train.head(1)"
   ]
  },
  {
   "cell_type": "code",
   "execution_count": 53,
   "metadata": {},
   "outputs": [
    {
     "data": {
      "text/plain": [
       "array([2102.92677462, 1831.32510518, 2539.41180362, ..., 2419.96394515,\n",
       "       4438.58253081, 1825.93029964])"
      ]
     },
     "execution_count": 53,
     "metadata": {},
     "output_type": "execute_result"
    }
   ],
   "source": [
    "x = test_df[['Item_MRP', 'Outlet_Type','Outlet_Location_Type','Item_Type' ,'Outlet_Identifier_encoded']]\n",
    "pred = model.predict(x)\n",
    "pred"
   ]
  },
  {
   "cell_type": "code",
   "execution_count": 54,
   "metadata": {},
   "outputs": [
    {
     "name": "stderr",
     "output_type": "stream",
     "text": [
      "c:\\users\\anurag\\appdata\\local\\programs\\python\\python35-32\\lib\\site-packages\\ipykernel_launcher.py:2: SettingWithCopyWarning: \n",
      "A value is trying to be set on a copy of a slice from a DataFrame.\n",
      "Try using .loc[row_indexer,col_indexer] = value instead\n",
      "\n",
      "See the caveats in the documentation: http://pandas.pydata.org/pandas-docs/stable/user_guide/indexing.html#returning-a-view-versus-a-copy\n",
      "  \n"
     ]
    }
   ],
   "source": [
    "df_submit = test_df[['Item_Identifier', 'Outlet_Identifier']]\n",
    "df_submit['Item_Outlet_Sales'] = pred"
   ]
  },
  {
   "cell_type": "code",
   "execution_count": 55,
   "metadata": {},
   "outputs": [
    {
     "data": {
      "text/html": [
       "<div>\n",
       "<style scoped>\n",
       "    .dataframe tbody tr th:only-of-type {\n",
       "        vertical-align: middle;\n",
       "    }\n",
       "\n",
       "    .dataframe tbody tr th {\n",
       "        vertical-align: top;\n",
       "    }\n",
       "\n",
       "    .dataframe thead th {\n",
       "        text-align: right;\n",
       "    }\n",
       "</style>\n",
       "<table border=\"1\" class=\"dataframe\">\n",
       "  <thead>\n",
       "    <tr style=\"text-align: right;\">\n",
       "      <th></th>\n",
       "      <th>Item_Identifier</th>\n",
       "      <th>Outlet_Identifier</th>\n",
       "      <th>Item_Outlet_Sales</th>\n",
       "    </tr>\n",
       "  </thead>\n",
       "  <tbody>\n",
       "    <tr>\n",
       "      <td>0</td>\n",
       "      <td>FDW58</td>\n",
       "      <td>OUT049</td>\n",
       "      <td>2102.926775</td>\n",
       "    </tr>\n",
       "    <tr>\n",
       "      <td>1</td>\n",
       "      <td>FDW14</td>\n",
       "      <td>OUT017</td>\n",
       "      <td>1831.325105</td>\n",
       "    </tr>\n",
       "  </tbody>\n",
       "</table>\n",
       "</div>"
      ],
      "text/plain": [
       "  Item_Identifier Outlet_Identifier  Item_Outlet_Sales\n",
       "0           FDW58            OUT049        2102.926775\n",
       "1           FDW14            OUT017        1831.325105"
      ]
     },
     "execution_count": 55,
     "metadata": {},
     "output_type": "execute_result"
    }
   ],
   "source": [
    "df_submit.head(2)"
   ]
  },
  {
   "cell_type": "code",
   "execution_count": 56,
   "metadata": {},
   "outputs": [],
   "source": [
    "df_submit.to_csv('Big data submit1.csv',index = False)"
   ]
  },
  {
   "cell_type": "code",
   "execution_count": null,
   "metadata": {},
   "outputs": [],
   "source": []
  },
  {
   "cell_type": "code",
   "execution_count": 4,
   "metadata": {},
   "outputs": [],
   "source": []
  },
  {
   "cell_type": "code",
   "execution_count": null,
   "metadata": {},
   "outputs": [],
   "source": []
  },
  {
   "cell_type": "code",
   "execution_count": null,
   "metadata": {},
   "outputs": [],
   "source": []
  }
 ],
 "metadata": {
  "kernelspec": {
   "display_name": "Python 3",
   "language": "python",
   "name": "python3"
  },
  "language_info": {
   "codemirror_mode": {
    "name": "ipython",
    "version": 3
   },
   "file_extension": ".py",
   "mimetype": "text/x-python",
   "name": "python",
   "nbconvert_exporter": "python",
   "pygments_lexer": "ipython3",
   "version": "3.5.3"
  }
 },
 "nbformat": 4,
 "nbformat_minor": 2
}
