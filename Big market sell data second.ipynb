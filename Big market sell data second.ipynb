{
 "cells": [
  {
   "cell_type": "code",
   "execution_count": 1,
   "metadata": {},
   "outputs": [],
   "source": [
    "import pandas as pd\n",
    "import numpy as np\n",
    "import matplotlib.pyplot as plt\n",
    "import seaborn as sns\n",
    "from sklearn.linear_model import Ridge\n",
    "from sklearn.linear_model import LinearRegression\n",
    "from sklearn.tree import DecisionTreeRegressor\n",
    "from sklearn.ensemble import GradientBoostingRegressor\n",
    "from sklearn.ensemble import RandomForestRegressor\n",
    "from sklearn.model_selection import train_test_split\n",
    "from sklearn import metrics\n",
    "sns.set()"
   ]
  },
  {
   "cell_type": "code",
   "execution_count": null,
   "metadata": {},
   "outputs": [],
   "source": [
    "## Why do label or why one-hot:-\n",
    "1. https://forums.fast.ai/t/to-label-encode-or-one-hot-encode/6057/8\n",
    "2. https://www.saedsayad.com/encoding.htm"
   ]
  },
  {
   "cell_type": "code",
   "execution_count": 119,
   "metadata": {},
   "outputs": [],
   "source": [
    "df = pd.read_csv('Big market sales data.csv')\n",
    "df.loc[df[df['Outlet_Identifier'] == 'OUT045'].index, 'Outlet_Size'] = 'Small'\n",
    "df.loc[df[df['Outlet_Identifier'] == 'OUT017'].index, 'Outlet_Size'] = 'Small'\n",
    "df.loc[df[df['Outlet_Identifier'] == 'OUT010'].index, 'Outlet_Size'] = 'Small'\n",
    "df['Item_Fat_Content'].replace(['LF', 'low fat'], 'Low Fat', inplace = True)\n",
    "df['Item_Fat_Content'].replace('reg', 'Regular', inplace = True)\n",
    "df.loc[df[df['Item_Weight'].isna()].index, 'Item_Weight'] = df['Item_Weight'].mean()"
   ]
  },
  {
   "cell_type": "code",
   "execution_count": 14,
   "metadata": {},
   "outputs": [
    {
     "data": {
      "text/plain": [
       "(8523, 12)"
      ]
     },
     "execution_count": 14,
     "metadata": {},
     "output_type": "execute_result"
    }
   ],
   "source": [
    "df['Item_Fat_Content'] = df['Item_Fat_Content'].map((df.groupby(['Item_Fat_Content'])['Item_Outlet_Sales'].sum()/df.groupby(['Item_Fat_Content'])['Item_Outlet_Sales'].count()).to_dict())\n",
    "df['Outlet_Type'] = df['Outlet_Type'].map((df.groupby(['Outlet_Type'])['Item_Outlet_Sales'].sum()/df.groupby(['Outlet_Type'])['Item_Outlet_Sales'].count()).to_dict())\n",
    "df['Outlet_Size'] = df['Outlet_Size'].map((df.groupby(['Outlet_Size'])['Item_Outlet_Sales'].sum()/df.groupby(['Outlet_Size'])['Item_Outlet_Sales'].count()).to_dict())\n",
    "df['Outlet_Location_Type'] = df['Outlet_Location_Type'].map((df.groupby(['Outlet_Location_Type'])['Item_Outlet_Sales'].sum()/df.groupby(['Outlet_Location_Type'])['Item_Outlet_Sales'].count()).to_dict())\n",
    "df['Item_Type'] = df['Item_Type'].map((df.groupby(['Item_Type'])['Item_Outlet_Sales'].sum()/df.groupby(['Item_Type'])['Item_Outlet_Sales'].count()).to_dict())\n",
    "df['Outlet_Identifier_encoded'] = df['Outlet_Identifier'].map((df.groupby(['Outlet_Identifier'])['Item_Identifier'].count()/df['Item_Identifier'].nunique()).to_dict())\n",
    "# df = pd.merge(df, df.groupby(['Outlet_Identifier', 'Item_Type'])['Item_Outlet_Sales'].mean().reset_index(), on = ['Outlet_Identifier', 'Item_Type'], suffixes=['', '_mean'])\n"
   ]
  },
  {
   "cell_type": "code",
   "execution_count": 3,
   "metadata": {},
   "outputs": [],
   "source": [
    "#############################################################################"
   ]
  },
  {
   "cell_type": "code",
   "execution_count": 49,
   "metadata": {},
   "outputs": [
    {
     "data": {
      "text/html": [
       "<div>\n",
       "<style scoped>\n",
       "    .dataframe tbody tr th:only-of-type {\n",
       "        vertical-align: middle;\n",
       "    }\n",
       "\n",
       "    .dataframe tbody tr th {\n",
       "        vertical-align: top;\n",
       "    }\n",
       "\n",
       "    .dataframe thead th {\n",
       "        text-align: right;\n",
       "    }\n",
       "</style>\n",
       "<table border=\"1\" class=\"dataframe\">\n",
       "  <thead>\n",
       "    <tr style=\"text-align: right;\">\n",
       "      <th></th>\n",
       "      <th>Item_Identifier</th>\n",
       "      <th>Item_Weight</th>\n",
       "      <th>Item_Fat_Content</th>\n",
       "      <th>Item_Visibility</th>\n",
       "      <th>Item_Type</th>\n",
       "      <th>Item_MRP</th>\n",
       "      <th>Outlet_Identifier</th>\n",
       "      <th>Outlet_Establishment_Year</th>\n",
       "      <th>Outlet_Size</th>\n",
       "      <th>Outlet_Location_Type</th>\n",
       "      <th>Outlet_Type</th>\n",
       "      <th>Item_Outlet_Sales</th>\n",
       "    </tr>\n",
       "  </thead>\n",
       "  <tbody>\n",
       "    <tr>\n",
       "      <td>0</td>\n",
       "      <td>FDA15</td>\n",
       "      <td>9.30</td>\n",
       "      <td>Low Fat</td>\n",
       "      <td>0.016047</td>\n",
       "      <td>Dairy</td>\n",
       "      <td>249.8092</td>\n",
       "      <td>OUT049</td>\n",
       "      <td>1999</td>\n",
       "      <td>Medium</td>\n",
       "      <td>Tier 1</td>\n",
       "      <td>Supermarket Type1</td>\n",
       "      <td>3735.1380</td>\n",
       "    </tr>\n",
       "    <tr>\n",
       "      <td>1</td>\n",
       "      <td>DRC01</td>\n",
       "      <td>5.92</td>\n",
       "      <td>Regular</td>\n",
       "      <td>0.019278</td>\n",
       "      <td>Soft Drinks</td>\n",
       "      <td>48.2692</td>\n",
       "      <td>OUT018</td>\n",
       "      <td>2009</td>\n",
       "      <td>Medium</td>\n",
       "      <td>Tier 3</td>\n",
       "      <td>Supermarket Type2</td>\n",
       "      <td>443.4228</td>\n",
       "    </tr>\n",
       "  </tbody>\n",
       "</table>\n",
       "</div>"
      ],
      "text/plain": [
       "  Item_Identifier  Item_Weight Item_Fat_Content  Item_Visibility    Item_Type  \\\n",
       "0           FDA15         9.30          Low Fat         0.016047        Dairy   \n",
       "1           DRC01         5.92          Regular         0.019278  Soft Drinks   \n",
       "\n",
       "   Item_MRP Outlet_Identifier  Outlet_Establishment_Year Outlet_Size  \\\n",
       "0  249.8092            OUT049                       1999      Medium   \n",
       "1   48.2692            OUT018                       2009      Medium   \n",
       "\n",
       "  Outlet_Location_Type        Outlet_Type  Item_Outlet_Sales  \n",
       "0               Tier 1  Supermarket Type1          3735.1380  \n",
       "1               Tier 3  Supermarket Type2           443.4228  "
      ]
     },
     "execution_count": 49,
     "metadata": {},
     "output_type": "execute_result"
    }
   ],
   "source": [
    "df = pd.read_csv('Big market sales data.csv')\n",
    "df.loc[df[df['Outlet_Identifier'] == 'OUT045'].index, 'Outlet_Size'] = 'Small'\n",
    "df.loc[df[df['Outlet_Identifier'] == 'OUT017'].index, 'Outlet_Size'] = 'Small'\n",
    "df.loc[df[df['Outlet_Identifier'] == 'OUT010'].index, 'Outlet_Size'] = 'Small'\n",
    "df['Item_Fat_Content'].replace(['LF', 'low fat'], 'Low Fat', inplace = True)\n",
    "df['Item_Fat_Content'].replace('reg', 'Regular', inplace = True)\n",
    "df.loc[df[df['Item_Weight'].isna()].index, 'Item_Weight'] = df['Item_Weight'].mean()\n",
    "df.head(2)"
   ]
  },
  {
   "cell_type": "code",
   "execution_count": 50,
   "metadata": {},
   "outputs": [],
   "source": [
    "# df['Item_Fat_Content'] = df['Item_Fat_Content'].map((df.groupby(['Item_Fat_Content'])['Item_Outlet_Sales'].sum()/df.groupby(['Item_Fat_Content'])['Item_Outlet_Sales'].count()).to_dict())\n",
    "df['Outlet_Type'] = df['Outlet_Type'].map((df.groupby(['Outlet_Type'])['Item_Outlet_Sales'].sum()/df.groupby(['Outlet_Type'])['Item_Outlet_Sales'].count()).to_dict())\n",
    "# df['Outlet_Size'] = df['Outlet_Size'].map((df.groupby(['Outlet_Size'])['Item_Outlet_Sales'].sum()/df.groupby(['Outlet_Size'])['Item_Outlet_Sales'].count()).to_dict())\n",
    "df['Outlet_Location_Type'] = df['Outlet_Location_Type'].map((df.groupby(['Outlet_Location_Type'])['Item_Outlet_Sales'].sum()/df.groupby(['Outlet_Location_Type'])['Item_Outlet_Sales'].count()).to_dict())\n",
    "df['Item_Type'] = df['Item_Type'].map((df.groupby(['Item_Type'])['Item_Outlet_Sales'].sum()/df.groupby(['Item_Type'])['Item_Outlet_Sales'].count()).to_dict())\n",
    "df['Outlet_Identifier_encoded'] = df['Outlet_Identifier'].map((df.groupby(['Outlet_Identifier'])['Item_Identifier'].count()/df['Item_Identifier'].nunique()).to_dict())\n",
    "# df = pd.merge(df, df.groupby(['Outlet_Identifier', 'Item_Type'])['Item_Outlet_Sales'].mean().reset_index(), on = ['Outlet_Identifier', 'Item_Type'], suffixes=['', '_mean'])\n"
   ]
  },
  {
   "cell_type": "code",
   "execution_count": 88,
   "metadata": {},
   "outputs": [],
   "source": [
    "df['Outlet_Size'] = df['Outlet_Size'].map((df.groupby(['Outlet_Size'])['Item_Outlet_Sales'].sum()/df.groupby(['Outlet_Size'])['Item_Outlet_Sales'].count()).to_dict())"
   ]
  },
  {
   "cell_type": "code",
   "execution_count": 5,
   "metadata": {},
   "outputs": [
    {
     "data": {
      "text/plain": [
       "Item_Outlet_Sales            1.000000\n",
       "Item_MRP                     0.567574\n",
       "Outlet_Type                  0.489464\n",
       "Outlet_Identifier_encoded    0.415103\n",
       "Outlet_Location_Type         0.111828\n",
       "Item_Type                    0.068843\n",
       "Item_Weight                  0.011550\n",
       "Outlet_Establishment_Year   -0.049135\n",
       "Item_Visibility             -0.128625\n",
       "Name: Item_Outlet_Sales, dtype: float64"
      ]
     },
     "execution_count": 5,
     "metadata": {},
     "output_type": "execute_result"
    }
   ],
   "source": [
    "df.corr()['Item_Outlet_Sales'].sort_values(ascending = False)"
   ]
  },
  {
   "cell_type": "code",
   "execution_count": 32,
   "metadata": {},
   "outputs": [
    {
     "name": "stdout",
     "output_type": "stream",
     "text": [
      "0.6125148116162787\n",
      "0.5785179162921391\n",
      "[0.52443589 0.47556411]\n",
      "1079.043667671077\n"
     ]
    }
   ],
   "source": [
    "pred = model.predict(x_test)\n",
    "print(model.score(x_train, y_train))\n",
    "print(model.score(x_test, y_test))\n",
    "print(model.feature_importances_)\n",
    "print(np.sqrt(metrics.mean_squared_error(y_test, pred)))"
   ]
  },
  {
   "cell_type": "code",
   "execution_count": 6,
   "metadata": {},
   "outputs": [],
   "source": [
    "x = df[['Item_MRP', 'Outlet_Type', 'Outlet_Identifier_encoded','Outlet_Location_Type']]\n",
    "y = df['Item_Outlet_Sales']\n",
    "x_train,x_test, y_train, y_test = train_test_split(x, y, random_state = 42, test_size = 0.2)"
   ]
  },
  {
   "cell_type": "code",
   "execution_count": 94,
   "metadata": {},
   "outputs": [
    {
     "name": "stdout",
     "output_type": "stream",
     "text": [
      "DecisionTreeRegressor(criterion='mae', max_depth=5, max_features='log2',\n",
      "                      max_leaf_nodes=8, min_impurity_decrease=0.0,\n",
      "                      min_impurity_split=None, min_samples_leaf=11,\n",
      "                      min_samples_split=2, min_weight_fraction_leaf=0.0,\n",
      "                      presort=False, random_state=42, splitter='best')\n",
      "\n",
      "0.5283929150517941\n",
      "0.5482585877006932\n",
      "[0.49682207 0.40408636 0.09909157 0.        ]\n",
      "1108.0702308430991\n"
     ]
    }
   ],
   "source": [
    "from sklearn.metrics import make_scorer, mean_squared_error\n",
    "from sklearn.model_selection import RandomizedSearchCV\n",
    "\n",
    "# Choose the type of classifier. \n",
    "model = DecisionTreeRegressor(random_state = 42)\n",
    "\n",
    "# Choose some parameter combinations to try\n",
    "# learning_rate = [0.01, 0.05, 0.1, 0.5, 1,1.5] # 8\n",
    "criterion = ['mse', 'friedman_mse', 'mae']\n",
    "splitter = ['best', 'random']\n",
    "n_estimators = [120, 160, 200,210,220,230,240]\n",
    "max_depth = [4,5, 6, 8, 9,10,11]\n",
    "max_features = ['auto', 'sqrt', 'log2']\n",
    "min_samples_leaf = [8,10,11,13,15,16,17,18]\n",
    "max_leaf_nodes = [2,4,6,8]\n",
    "parameters = {'criterion':criterion , 'splitter':splitter, 'max_depth': max_depth,\n",
    "               'max_features': max_features, 'min_samples_leaf': min_samples_leaf, 'max_leaf_nodes':max_leaf_nodes }\n",
    "\n",
    "\n",
    "\n",
    "# Type of scoring used to compare parameter combinations\n",
    "acc_scorer = make_scorer(mean_squared_error, greater_is_better = False)\n",
    "\n",
    "# Run the grid search\n",
    "grid_obj = RandomizedSearchCV(estimator = model, param_distributions = parameters, scoring=acc_scorer, cv = 4)\n",
    "grid_obj = grid_obj.fit(x_train, y_train)\n",
    "\n",
    "# Set the clf to the best combination of parameters\n",
    "model = grid_obj.best_estimator_\n",
    "\n",
    "# Fit the best algorithm to the data. \n",
    "model.fit(x_train, y_train)\n",
    "print(model)\n",
    "print()\n",
    "pred = model.predict(x_test)\n",
    "print(model.score(x_train, y_train))\n",
    "print(model.score(x_test, y_test))\n",
    "print(model.feature_importances_)\n",
    "print(np.sqrt(metrics.mean_squared_error(y_test, pred)))"
   ]
  },
  {
   "cell_type": "code",
   "execution_count": 82,
   "metadata": {},
   "outputs": [],
   "source": [
    "#################################################"
   ]
  },
  {
   "cell_type": "markdown",
   "metadata": {},
   "source": [
    "## Decision Tree Result:-"
   ]
  },
  {
   "cell_type": "code",
   "execution_count": null,
   "metadata": {},
   "outputs": [],
   "source": [
    "x = df[['Item_MRP', 'Outlet_Type', 'Outlet_Identifier_encoded']]\n",
    "DecisionTreeRegressor(criterion='mae', max_depth=6, max_features='auto',\n",
    "                      max_leaf_nodes=None, min_impurity_decrease=0.0,\n",
    "                      min_impurity_split=None, min_samples_leaf=11,\n",
    "                      min_samples_split=2, min_weight_fraction_leaf=0.0,\n",
    "                      presort=False, random_state=42, splitter='random')\n",
    "\n",
    "0.5831255736854395\n",
    "0.600818503048899\n",
    "[0.56743994 0.07690244 0.35565763]\n",
    "1041.6157448216434"
   ]
  },
  {
   "cell_type": "code",
   "execution_count": null,
   "metadata": {},
   "outputs": [],
   "source": [
    "x = df[['Item_MRP', 'Outlet_Type','Outlet_Size', 'Outlet_Identifier_encoded']]\n",
    "DecisionTreeRegressor(criterion='mae', max_depth=5, max_features='auto',\n",
    "                      max_leaf_nodes=None, min_impurity_decrease=0.0,\n",
    "                      min_impurity_split=None, min_samples_leaf=11,\n",
    "                      min_samples_split=2, min_weight_fraction_leaf=0.0,\n",
    "                      presort=False, random_state=42, splitter='best')\n",
    "\n",
    "0.5957975922951524\n",
    "0.6075880875103671\n",
    "[0.53667847 0.02494471 0.         0.43837682]\n",
    "1032.7457731361785"
   ]
  },
  {
   "cell_type": "code",
   "execution_count": null,
   "metadata": {},
   "outputs": [],
   "source": [
    "x = df[['Item_MRP', 'Outlet_Type', 'Outlet_Identifier_encoded']]\n",
    "DecisionTreeRegressor(criterion='mse', max_depth=6, max_features='auto',\n",
    "                      max_leaf_nodes=None, min_impurity_decrease=0.0,\n",
    "                      min_impurity_split=None, min_samples_leaf=10,\n",
    "                      min_samples_split=2, min_weight_fraction_leaf=0.0,\n",
    "                      presort=False, random_state=42, splitter='best')\n",
    "\n",
    "0.60900078177402\n",
    "0.6096935702209327\n",
    "[0.55407474 0.29229722 0.15362804]\n",
    "1029.9714524915466"
   ]
  },
  {
   "cell_type": "code",
   "execution_count": null,
   "metadata": {},
   "outputs": [],
   "source": [
    "x = df[['Item_MRP', 'Outlet_Type', 'Outlet_Identifier_encoded','Outlet_Location_Type']]\n",
    "\n",
    "DecisionTreeRegressor(criterion='mse', max_depth=11, max_features='sqrt',\n",
    "                      max_leaf_nodes=None, min_impurity_decrease=0.0,\n",
    "                      min_impurity_split=None, min_samples_leaf=10,\n",
    "                      min_samples_split=2, min_weight_fraction_leaf=0.0,\n",
    "                      presort=False, random_state=42, splitter='random')\n",
    "\n",
    "0.6072173847435747\n",
    "0.6107659070171118\n",
    "[0.55152357 0.1763715  0.26951891 0.00258602]\n",
    "1028.5555957915938"
   ]
  },
  {
   "cell_type": "code",
   "execution_count": null,
   "metadata": {},
   "outputs": [],
   "source": [
    "DecisionTreeRegressor(criterion='mse', max_depth=10, max_features='log2',\n",
    "                      max_leaf_nodes=None, min_impurity_decrease=0.0,\n",
    "                      min_impurity_split=None, min_samples_leaf=16,\n",
    "                      min_samples_split=2, min_weight_fraction_leaf=0.0,\n",
    "                      presort=False, random_state=42, splitter='random')\n",
    "\n",
    "0.6050051888581851\n",
    "0.6088066202551936\n",
    "[0.55268166 0.08927352 0.35059927 0.00744555]\n",
    "1031.141065230656"
   ]
  },
  {
   "cell_type": "code",
   "execution_count": 92,
   "metadata": {},
   "outputs": [],
   "source": [
    "#################################################"
   ]
  },
  {
   "cell_type": "code",
   "execution_count": 4,
   "metadata": {},
   "outputs": [],
   "source": [
    "x = df[['Item_MRP', 'Outlet_Type', 'Outlet_Identifier_encoded','Outlet_Location_Type']]\n",
    "y = df['Item_Outlet_Sales']\n",
    "x_train,x_test, y_train, y_test = train_test_split(x, y, random_state = 42, test_size = 0.2)"
   ]
  },
  {
   "cell_type": "code",
   "execution_count": 182,
   "metadata": {},
   "outputs": [],
   "source": [
    "model = GradientBoostingRegressor(criterion='mse', max_depth=4, max_features='sqrt',learning_rate = 0.045,\n",
    "                      max_leaf_nodes=None, min_impurity_decrease=0.0,\n",
    "                      min_impurity_split=None, min_samples_leaf=18,\n",
    "                      min_samples_split=2, min_weight_fraction_leaf=0.0, random_state=42)"
   ]
  },
  {
   "cell_type": "code",
   "execution_count": 183,
   "metadata": {},
   "outputs": [
    {
     "name": "stdout",
     "output_type": "stream",
     "text": [
      "0.6156653465490388\n",
      "0.6158345906495906\n",
      "[0.57369543 0.22142208 0.20332995 0.00155254]\n",
      "1021.8366225791542\n"
     ]
    }
   ],
   "source": [
    "model.fit(x_train, y_train)\n",
    "pred = model.predict(x_test)\n",
    "print(model.score(x_train, y_train))\n",
    "print(model.score(x_test, y_test))\n",
    "print(model.feature_importances_)\n",
    "print(np.sqrt(metrics.mean_squared_error(y_test, pred)))"
   ]
  },
  {
   "cell_type": "code",
   "execution_count": 129,
   "metadata": {},
   "outputs": [],
   "source": [
    "################################################################################"
   ]
  },
  {
   "cell_type": "code",
   "execution_count": null,
   "metadata": {},
   "outputs": [],
   "source": []
  },
  {
   "cell_type": "code",
   "execution_count": null,
   "metadata": {},
   "outputs": [],
   "source": [
    "                          (alpha=0.9, criterion='mse',\n",
    "                          learning_rate=0.038, loss='ls', max_depth=4,\n",
    "                          max_features='sqrt', max_leaf_nodes=None,\n",
    "                          min_samples_leaf=10, min_samples_split=2,\n",
    "                          min_weight_fraction_leaf=0.0, n_estimators=100)\n",
    "\n",
    "0.6138263956563257\n",
    "0.6166871921010599\n",
    "[0.5730965  0.19799029 0.22770421 0.001209  ]\n",
    "1020.7020809325928"
   ]
  },
  {
   "cell_type": "code",
   "execution_count": null,
   "metadata": {},
   "outputs": [],
   "source": [
    "GradientBoostingRegressor(alpha=0.9, criterion='friedman_mse',\n",
    "                          learning_rate=0.03, loss='ls', max_depth=4,\n",
    "                          max_features='sqrt', max_leaf_nodes=None,\n",
    "                          min_samples_leaf=8, min_samples_split=2,\n",
    "                          min_weight_fraction_leaf=0.0, n_estimators=100)\n",
    "                         \n",
    "0.6084618600181806\n",
    "0.6147358863016692\n",
    "[0.57121952 0.19978592 0.22802662 0.00096794]\n",
    "1023.2967940796475\n",
    "--------------------------------------------------------------------------------------------------\n",
    "\n",
    "GradientBoostingRegressor(alpha=0.9, criterion='friedman_mse', init=None,\n",
    "                          learning_rate=0.03, loss='ls', max_depth=5,\n",
    "                          max_features='log2', max_leaf_nodes=None,\n",
    "                          min_impurity_decrease=0.0, min_impurity_split=None,\n",
    "                          min_samples_leaf=11, min_samples_split=2,\n",
    "                          min_weight_fraction_leaf=0.0, n_estimators=130,\n",
    "                          n_iter_no_change=None, presort='auto',\n",
    "                          random_state=42, subsample=1.0, tol=0.0001,\n",
    "                          validation_fraction=0.1, verbose=0, warm_start=False)\n",
    "\n",
    "0.6222596386586878\n",
    "0.6123785182733856\n",
    "[0.58030427 0.22241256 0.19650157 0.0007816 ]\n",
    "1026.4227123902504"
   ]
  },
  {
   "cell_type": "code",
   "execution_count": 305,
   "metadata": {},
   "outputs": [],
   "source": [
    "--------------------------------------------------------------------------"
   ]
  },
  {
   "cell_type": "code",
   "execution_count": 306,
   "metadata": {},
   "outputs": [],
   "source": []
  },
  {
   "cell_type": "code",
   "execution_count": 309,
   "metadata": {},
   "outputs": [],
   "source": [
    "from sklearn.metrics import make_scorer, mean_squared_error\n",
    "from sklearn.model_selection import RandomizedSearchCV\n",
    "\n",
    "# Choose the type of classifier. \n",
    "model = GradientBoostingRegressor(random_state = 42)\n",
    "\n",
    "# Choose some parameter combinations to try\n",
    "learning_rate = [0.03, 0.035, 0.038,  1]\n",
    "n_estimators = [110, 130, 140, 145,150]\n",
    "max_depth = [4, 5, 6]\n",
    "min_samples_leaf = [9,10,11,14]\n",
    "min_weight_fraction_leaf = [0.1, 0.05, 0.18]\n",
    "max_leaf_nodes = [6,8,9,10]\n",
    "\n",
    "\n",
    "parameters = {'learning_rate': learning_rate, 'n_estimators':n_estimators,'max_depth': max_depth, \n",
    "              'min_samples_leaf': min_samples_leaf, 'min_weight_fraction_leaf':min_weight_fraction_leaf}\n",
    "\n",
    "# Type of scoring used to compare parameter combinations\n",
    "acc_scorer = make_scorer(mean_squared_error, greater_is_better = False)\n",
    "\n",
    "# Run the grid search\n",
    "grid_obj = RandomizedSearchCV(estimator = model, param_distributions = parameters, scoring=acc_scorer, cv = 4)\n",
    "grid_obj = grid_obj.fit(x_train, y_train)\n",
    "\n",
    "# Set the clf to the best combination of parameters\n",
    "model = grid_obj.best_estimator_\n",
    "\n",
    "# Fit the best algorithm to the data. \n",
    "model.fit(x_train, y_train)\n",
    "print(model)\n",
    "print()\n",
    "pred = model.predict(x_test)\n",
    "print(model.score(x_train, y_train))\n",
    "print(model.score(x_test, y_test))\n",
    "print(model.feature_importances_)\n",
    "print(np.sqrt(metrics.mean_squared_error(y_test, pred)))"
   ]
  },
  {
   "cell_type": "code",
   "execution_count": 6,
   "metadata": {},
   "outputs": [],
   "source": [
    "#################################################################################"
   ]
  },
  {
   "cell_type": "code",
   "execution_count": 54,
   "metadata": {},
   "outputs": [],
   "source": [
    "x = df[['Item_MRP', 'Outlet_Type', 'Outlet_Identifier_encoded','Outlet_Location_Type']]\n",
    "y = df['Item_Outlet_Sales']\n",
    "x_train,x_test, y_train, y_test = train_test_split(x, y, random_state = 42, test_size = 0.2)"
   ]
  },
  {
   "cell_type": "code",
   "execution_count": 55,
   "metadata": {},
   "outputs": [],
   "source": [
    "model = GradientBoostingRegressor(alpha=0.9, criterion='mse',\n",
    "                          learning_rate=0.038, loss='ls', max_depth=4,\n",
    "                          max_features='sqrt', max_leaf_nodes=None,\n",
    "                          min_samples_leaf=10, min_samples_split=2,\n",
    "                          min_weight_fraction_leaf=0.0, n_estimators=110, random_state = 42)"
   ]
  },
  {
   "cell_type": "code",
   "execution_count": 56,
   "metadata": {},
   "outputs": [
    {
     "name": "stdout",
     "output_type": "stream",
     "text": [
      "0.6155214825155297\n",
      "0.6165392807312119\n",
      "[0.57388799 0.19751046 0.22728267 0.00131889]\n",
      "1020.8989943652037\n"
     ]
    }
   ],
   "source": [
    "model.fit(x_train, y_train)\n",
    "pred = model.predict(x_test)\n",
    "print(model.score(x_train, y_train))\n",
    "print(model.score(x_test, y_test))\n",
    "print(model.feature_importances_)\n",
    "print(np.sqrt(metrics.mean_squared_error(y_test, pred)))"
   ]
  },
  {
   "cell_type": "code",
   "execution_count": null,
   "metadata": {},
   "outputs": [],
   "source": [
    "## Model jis jis data point ke liye jyada error de rha h us part ko pkdo to hme ye milega ki jinn feature ko lekr\n",
    "## ham model bna rhe h wo us part ke liye shi nhi h ya jyada shi nhi h ya un se jyada effective koi or feature h jo us\n",
    "## data ke liye target feature se jyada related h to ab ya to us feature ko bi us model me lekr uska kissi trah weight bda kr\n",
    "## ya us se related koi feature bna kr ya Phir us data ko lekr ek or model bna lo jiss me wo feature lo jo us particuler data\n",
    "## ke liye related h so phle us data pr bi acche se EDA kro\n",
    "# Best Perameter choose kro, tuning kro, phir peramteter tune kro toda or feature engineering, model ke max error part ko lo\n",
    "# us me corr dekk or eda kro "
   ]
  },
  {
   "cell_type": "code",
   "execution_count": null,
   "metadata": {},
   "outputs": [],
   "source": [
    "0.6135253947331183\n",
    "0.6210367871036687\n",
    "[0.56904145 0.1493891  0.19444195 0.01190484 0.00324488 0.07197778]\n",
    "1014.8944127352011\n",
    "alpha=0.9, criterion='mse',\n",
    "                          learning_rate=0.039, loss='ls', max_depth=5,\n",
    "                          max_features='sqrt', max_leaf_nodes=9,\n",
    "                          min_samples_leaf=11, min_samples_split=2,\n",
    "                          min_weight_fraction_leaf=0.018, n_estimators=156,"
   ]
  },
  {
   "cell_type": "code",
   "execution_count": 6,
   "metadata": {},
   "outputs": [
    {
     "name": "stdout",
     "output_type": "stream",
     "text": [
      "0.6199273088429499\n",
      "0.6195019028796055\n",
      "[0.57075229 0.17614554 0.18426108 0.01125856 0.00600452 0.051578  ]\n",
      "1016.9476084724595\n"
     ]
    }
   ],
   "source": [
    "x = df[['Item_MRP', 'Outlet_Type', 'Outlet_Identifier_encoded','Outlet_Location_Type', 'Item_Type','Outlet_Establishment_Year']]\n",
    "y = df['Item_Outlet_Sales']\n",
    "x_train,x_test, y_train, y_test = train_test_split(x, y, random_state = 42, test_size = 0.2)\n",
    "\n",
    "model = GradientBoostingRegressor(alpha=0.9, criterion='mse',\n",
    "                          learning_rate=0.03831, loss='ls', max_depth=4,\n",
    "                          max_features='sqrt', max_leaf_nodes=None,\n",
    "                          min_samples_leaf=13, min_samples_split=2,\n",
    "                          min_weight_fraction_leaf=0.0, n_estimators=150, random_state = 42)\n",
    "\n",
    "model.fit(x_train, y_train)\n",
    "pred = model.predict(x_test)\n",
    "print(model.score(x_train, y_train))\n",
    "print(model.score(x_test, y_test))\n",
    "print(model.feature_importances_)\n",
    "print(np.sqrt(metrics.mean_squared_error(y_test, pred)))\n",
    "# 0.6199273088429499\n",
    "# 0.6195019028796055\n",
    "# [0.57075229 0.17614554 0.18426108 0.01125856 0.00600452 0.051578  ]\n",
    "# 1016.9476084724595\n"
   ]
  },
  {
   "cell_type": "code",
   "execution_count": null,
   "metadata": {},
   "outputs": [],
   "source": [
    "x = df[['Item_MRP', 'Outlet_Type', 'Outlet_Identifier_encoded','Item_Type','Item_Visibility']]\n",
    "y = df['Item_Outlet_Sales']\n",
    "x_train,x_test, y_train, y_test = train_test_split(x, y, random_state = 42, test_size = 0.2)\n",
    "\n",
    "model = RandomForestRegressor(random_state = 42, criterion = 'mse', max_depth = 6, min_samples_leaf = 10,\n",
    "                              max_features = 'auto', n_estimators = 80)\n",
    "\n",
    "model.fit(x_train, y_train)\n",
    "pred = model.predict(x_test)\n",
    "print(model.score(x_train, y_train))\n",
    "print(model.score(x_test, y_test))\n",
    "print(model.feature_importances_)\n",
    "print(np.sqrt(metrics.mean_squared_error(y_test, pred)))\n"
   ]
  },
  {
   "cell_type": "code",
   "execution_count": 69,
   "metadata": {},
   "outputs": [
    {
     "data": {
      "text/html": [
       "<div>\n",
       "<style scoped>\n",
       "    .dataframe tbody tr th:only-of-type {\n",
       "        vertical-align: middle;\n",
       "    }\n",
       "\n",
       "    .dataframe tbody tr th {\n",
       "        vertical-align: top;\n",
       "    }\n",
       "\n",
       "    .dataframe thead th {\n",
       "        text-align: right;\n",
       "    }\n",
       "</style>\n",
       "<table border=\"1\" class=\"dataframe\">\n",
       "  <thead>\n",
       "    <tr style=\"text-align: right;\">\n",
       "      <th></th>\n",
       "      <th>Pred</th>\n",
       "      <th>Real</th>\n",
       "      <th>error</th>\n",
       "    </tr>\n",
       "  </thead>\n",
       "  <tbody>\n",
       "    <tr>\n",
       "      <td>7503</td>\n",
       "      <td>1232.068938</td>\n",
       "      <td>1743.0644</td>\n",
       "      <td>510.995462</td>\n",
       "    </tr>\n",
       "    <tr>\n",
       "      <td>2957</td>\n",
       "      <td>655.313929</td>\n",
       "      <td>356.8688</td>\n",
       "      <td>-298.445129</td>\n",
       "    </tr>\n",
       "  </tbody>\n",
       "</table>\n",
       "</div>"
      ],
      "text/plain": [
       "             Pred       Real       error\n",
       "7503  1232.068938  1743.0644  510.995462\n",
       "2957   655.313929   356.8688 -298.445129"
      ]
     },
     "execution_count": 69,
     "metadata": {},
     "output_type": "execute_result"
    }
   ],
   "source": [
    "result = pd.DataFrame({'Real':y_test, 'Pred': pred})\n",
    "result['error'] = result['Real'] - result['Pred']\n",
    "result.head(2)"
   ]
  },
  {
   "cell_type": "code",
   "execution_count": 70,
   "metadata": {},
   "outputs": [
    {
     "data": {
      "text/plain": [
       "<matplotlib.axes._subplots.AxesSubplot at 0x11797a10>"
      ]
     },
     "execution_count": 70,
     "metadata": {},
     "output_type": "execute_result"
    },
    {
     "data": {
      "image/png": "[encoded data removed]",
      "text/plain": [
       "<Figure size 432x288 with 1 Axes>"
      ]
     },
     "metadata": {
      "needs_background": "light"
     },
     "output_type": "display_data"
    }
   ],
   "source": [
    "sns.distplot(result['error'])"
   ]
  },
  {
   "cell_type": "code",
   "execution_count": 71,
   "metadata": {},
   "outputs": [
    {
     "name": "stdout",
     "output_type": "stream",
     "text": [
      "(1705, 3)\n",
      "(1601, 3)\n"
     ]
    },
    {
     "data": {
      "text/plain": [
       "762.4938728705243"
      ]
     },
     "execution_count": 71,
     "metadata": {},
     "output_type": "execute_result"
    }
   ],
   "source": [
    "print(result.shape)\n",
    "result1 = result[(result['error'] > -2000) & (result['error'] < 2000)]\n",
    "print(result1.shape)\n",
    "np.sqrt(metrics.mean_squared_error(result1['Pred'], result1['Real']))"
   ]
  },
  {
   "cell_type": "code",
   "execution_count": 87,
   "metadata": {},
   "outputs": [],
   "source": [
    "error_index = result[(result['error'] < -2000) | (result['error'] > 2000)].index\n",
    "df1 = df.loc[error_index]"
   ]
  },
  {
   "cell_type": "code",
   "execution_count": 73,
   "metadata": {},
   "outputs": [
    {
     "data": {
      "text/plain": [
       "(104, 12)"
      ]
     },
     "execution_count": 73,
     "metadata": {},
     "output_type": "execute_result"
    }
   ],
   "source": [
    "df1.shape"
   ]
  },
  {
   "cell_type": "code",
   "execution_count": 77,
   "metadata": {},
   "outputs": [
    {
     "data": {
      "text/plain": [
       "<matplotlib.axes._subplots.AxesSubplot at 0x117e5410>"
      ]
     },
     "execution_count": 77,
     "metadata": {},
     "output_type": "execute_result"
    },
    {
     "data": {
      "image/png": "[encoded data removed]",
      "text/plain": [
       "<Figure size 432x288 with 1 Axes>"
      ]
     },
     "metadata": {
      "needs_background": "light"
     },
     "output_type": "display_data"
    }
   ],
   "source": [
    "sns.barplot(df1['Outlet_Location_Type'], df1['Item_Outlet_Sales'], estimator = sum) # as same as all data distribution"
   ]
  },
  {
   "cell_type": "code",
   "execution_count": 80,
   "metadata": {},
   "outputs": [
    {
     "data": {
      "text/plain": [
       "<matplotlib.axes._subplots.AxesSubplot at 0x11811d50>"
      ]
     },
     "execution_count": 80,
     "metadata": {},
     "output_type": "execute_result"
    },
    {
     "data": {
      "image/png": "[encoded data removed]",
      "text/plain": [
       "<Figure size 432x288 with 1 Axes>"
      ]
     },
     "metadata": {
      "needs_background": "light"
     },
     "output_type": "display_data"
    }
   ],
   "source": [
    "sns.barplot(df1['Outlet_Type'], df1['Item_Outlet_Sales'], estimator = sum) # sup3 > sup2"
   ]
  },
  {
   "cell_type": "code",
   "execution_count": 84,
   "metadata": {},
   "outputs": [
    {
     "data": {
      "text/plain": [
       "<matplotlib.axes._subplots.AxesSubplot at 0x10d201f0>"
      ]
     },
     "execution_count": 84,
     "metadata": {},
     "output_type": "execute_result"
    },
    {
     "data": {
      "image/png": "[encoded data removed]",
      "text/plain": [
       "<Figure size 432x288 with 1 Axes>"
      ]
     },
     "metadata": {
      "needs_background": "light"
     },
     "output_type": "display_data"
    }
   ],
   "source": [
    "sns.barplot(df['Outlet_Type'], df['Item_Outlet_Sales'], estimator = sum)"
   ]
  },
  {
   "cell_type": "code",
   "execution_count": 81,
   "metadata": {},
   "outputs": [
    {
     "data": {
      "text/plain": [
       "<matplotlib.axes._subplots.AxesSubplot at 0x1181fe30>"
      ]
     },
     "execution_count": 81,
     "metadata": {},
     "output_type": "execute_result"
    },
    {
     "data": {
      "image/png": "[encoded data removed]",
      "text/plain": [
       "<Figure size 432x288 with 1 Axes>"
      ]
     },
     "metadata": {
      "needs_background": "light"
     },
     "output_type": "display_data"
    }
   ],
   "source": [
    "sns.distplot(df1['Item_Outlet_Sales'])"
   ]
  },
  {
   "cell_type": "code",
   "execution_count": 83,
   "metadata": {},
   "outputs": [
    {
     "data": {
      "text/plain": [
       "<matplotlib.axes._subplots.AxesSubplot at 0x118448d0>"
      ]
     },
     "execution_count": 83,
     "metadata": {},
     "output_type": "execute_result"
    },
    {
     "data": {
      "image/png": "[encoded data removed]",
      "text/plain": [
       "<Figure size 432x288 with 1 Axes>"
      ]
     },
     "metadata": {
      "needs_background": "light"
     },
     "output_type": "display_data"
    }
   ],
   "source": [
    "sns.distplot(df1['Item_MRP'])"
   ]
  },
  {
   "cell_type": "code",
   "execution_count": 88,
   "metadata": {},
   "outputs": [
    {
     "data": {
      "text/plain": [
       "Item_Outlet_Sales            1.000000\n",
       "Item_MRP                     0.567574\n",
       "Outlet_Type                  0.489464\n",
       "Outlet_Size                  0.218555\n",
       "Outlet_Location_Type         0.111828\n",
       "Item_Type                    0.068843\n",
       "Item_Fat_Content             0.018719\n",
       "Item_Weight                  0.011550\n",
       "Outlet_Establishment_Year   -0.049135\n",
       "Item_Visibility             -0.128625\n",
       "Name: Item_Outlet_Sales, dtype: float64"
      ]
     },
     "execution_count": 88,
     "metadata": {},
     "output_type": "execute_result"
    }
   ],
   "source": [
    "df.corr()['Item_Outlet_Sales'].sort_values(ascending = False)"
   ]
  },
  {
   "cell_type": "code",
   "execution_count": 233,
   "metadata": {},
   "outputs": [
    {
     "data": {
      "text/plain": [
       "Item_Outlet_Sales            1.000000\n",
       "Item_MRP                     0.567574\n",
       "Outlet_Type                  0.489464\n",
       "Outlet_Size                  0.218555\n",
       "Outlet_Location_Type         0.111828\n",
       "Item_Type                    0.068843\n",
       "Item_Fat_Content             0.018719\n",
       "Item_Weight                  0.011550\n",
       "Outlet_Establishment_Year   -0.049135\n",
       "Item_Visibility             -0.128625\n",
       "Name: Item_Outlet_Sales, dtype: float64"
      ]
     },
     "execution_count": 233,
     "metadata": {},
     "output_type": "execute_result"
    }
   ],
   "source": [
    "df.corr()['Item_Outlet_Sales'].sort_values(ascending = False)"
   ]
  },
  {
   "cell_type": "code",
   "execution_count": 231,
   "metadata": {},
   "outputs": [],
   "source": [
    "df['Item_Fat_Content'] = df['Item_Fat_Content'].map((df.groupby(['Item_Fat_Content'])['Item_Outlet_Sales'].sum()/df.groupby(['Item_Fat_Content'])['Item_Outlet_Sales'].count()).to_dict())\n",
    "df['Outlet_Type'] = df['Outlet_Type'].map((df.groupby(['Outlet_Type'])['Item_Outlet_Sales'].sum()/df.groupby(['Outlet_Type'])['Item_Outlet_Sales'].count()).to_dict())\n",
    "df['Outlet_Size'] = df['Outlet_Size'].map((df.groupby(['Outlet_Size'])['Item_Outlet_Sales'].sum()/df.groupby(['Outlet_Size'])['Item_Outlet_Sales'].count()).to_dict())\n",
    "df['Outlet_Location_Type'] = df['Outlet_Location_Type'].map((df.groupby(['Outlet_Location_Type'])['Item_Outlet_Sales'].sum()/df.groupby(['Outlet_Location_Type'])['Item_Outlet_Sales'].count()).to_dict())\n",
    "df['Item_Type'] = df['Item_Type'].map((df.groupby(['Item_Type'])['Item_Outlet_Sales'].sum()/df.groupby(['Item_Type'])['Item_Outlet_Sales'].count()).to_dict())\n"
   ]
  },
  {
   "cell_type": "code",
   "execution_count": 101,
   "metadata": {},
   "outputs": [
    {
     "data": {
      "text/plain": [
       "Outlet_Type\n",
       "Grocery Store        3.680343e+05\n",
       "Supermarket Type1    1.291734e+07\n",
       "Supermarket Type2    1.851823e+06\n",
       "Supermarket Type3    3.453926e+06\n",
       "Name: Item_Outlet_Sales, dtype: float64"
      ]
     },
     "execution_count": 101,
     "metadata": {},
     "output_type": "execute_result"
    }
   ],
   "source": [
    "df.groupby(['Outlet_Type'])['Item_Outlet_Sales'].sum()"
   ]
  },
  {
   "cell_type": "code",
   "execution_count": 116,
   "metadata": {},
   "outputs": [
    {
     "data": {
      "text/plain": [
       "Outlet_Type\n",
       "Grocery Store        1083\n",
       "Supermarket Type1    5577\n",
       "Supermarket Type2     928\n",
       "Supermarket Type3     935\n",
       "Name: Item_Identifier, dtype: int64"
      ]
     },
     "execution_count": 116,
     "metadata": {},
     "output_type": "execute_result"
    }
   ],
   "source": [
    "df.groupby(['Outlet_Type'])['Item_Identifier'].count()"
   ]
  },
  {
   "cell_type": "code",
   "execution_count": 118,
   "metadata": {},
   "outputs": [
    {
     "data": {
      "text/plain": [
       "{'Grocery Store': 901,\n",
       " 'Supermarket Type1': 1550,\n",
       " 'Supermarket Type2': 928,\n",
       " 'Supermarket Type3': 935}"
      ]
     },
     "execution_count": 118,
     "metadata": {},
     "output_type": "execute_result"
    }
   ],
   "source": [
    "dict_ = {}\n",
    "for i in set(df['Outlet_Type']):\n",
    "    dict_[i] = df[df['Outlet_Type'] == i]['Item_Identifier'].nunique()\n",
    "dict_"
   ]
  },
  {
   "cell_type": "code",
   "execution_count": 125,
   "metadata": {},
   "outputs": [
    {
     "name": "stdout",
     "output_type": "stream",
     "text": [
      "(928,)\n",
      "(5577,)\n",
      "(935,)\n",
      "(1083,)\n"
     ]
    }
   ],
   "source": [
    "for i in set(df['Outlet_Type']):\n",
    "    print(df[df['Outlet_Type'] == i]['Item_Identifier'].shape)"
   ]
  },
  {
   "cell_type": "code",
   "execution_count": 120,
   "metadata": {},
   "outputs": [],
   "source": [
    "df1 = df.copy()"
   ]
  },
  {
   "cell_type": "code",
   "execution_count": 121,
   "metadata": {},
   "outputs": [],
   "source": [
    "df1['Outlet_Type'] = df['Outlet_Type'].map(dict_)"
   ]
  },
  {
   "cell_type": "markdown",
   "metadata": {},
   "source": [
    "### Item_Type\n",
    "jis item_type me jistne jyada trah ke product hoge uski sale utni hi jyada hogi"
   ]
  },
  {
   "cell_type": "code",
   "execution_count": 166,
   "metadata": {},
   "outputs": [
    {
     "name": "stdout",
     "output_type": "stream",
     "text": [
      "Soft Drinks 80\n",
      "Health and Hygiene 95\n",
      "Breads 45\n",
      "Breakfast 20\n",
      "Seafood 10\n",
      "Baking Goods 119\n",
      "Hard Drinks 40\n",
      "Fruits and Vegetables 220\n",
      "Dairy 125\n",
      "Household 170\n",
      "Frozen Foods 155\n",
      "Snack Foods 220\n",
      "Starchy Foods 30\n",
      "Meat 80\n",
      "Canned 120\n",
      "Others 30\n"
     ]
    }
   ],
   "source": [
    "for i in set(df['Item_Type']):\n",
    "    print(i,df[df['Item_Type'] == i]['Item_Identifier'].nunique())"
   ]
  },
  {
   "cell_type": "code",
   "execution_count": 163,
   "metadata": {},
   "outputs": [
    {
     "data": {
      "text/html": [
       "<div>\n",
       "<style scoped>\n",
       "    .dataframe tbody tr th:only-of-type {\n",
       "        vertical-align: middle;\n",
       "    }\n",
       "\n",
       "    .dataframe tbody tr th {\n",
       "        vertical-align: top;\n",
       "    }\n",
       "\n",
       "    .dataframe thead th {\n",
       "        text-align: right;\n",
       "    }\n",
       "</style>\n",
       "<table border=\"1\" class=\"dataframe\">\n",
       "  <thead>\n",
       "    <tr style=\"text-align: right;\">\n",
       "      <th></th>\n",
       "      <th>nu of items in every item_type</th>\n",
       "      <th>total sale by them</th>\n",
       "    </tr>\n",
       "  </thead>\n",
       "  <tbody>\n",
       "    <tr>\n",
       "      <td>Fruits and Vegetables</td>\n",
       "      <td>220.0</td>\n",
       "      <td>2.820060e+06</td>\n",
       "    </tr>\n",
       "    <tr>\n",
       "      <td>Snack Foods</td>\n",
       "      <td>220.0</td>\n",
       "      <td>2.732786e+06</td>\n",
       "    </tr>\n",
       "    <tr>\n",
       "      <td>Household</td>\n",
       "      <td>170.0</td>\n",
       "      <td>2.055494e+06</td>\n",
       "    </tr>\n",
       "    <tr>\n",
       "      <td>Frozen Foods</td>\n",
       "      <td>155.0</td>\n",
       "      <td>1.825735e+06</td>\n",
       "    </tr>\n",
       "    <tr>\n",
       "      <td>Dairy</td>\n",
       "      <td>125.0</td>\n",
       "      <td>1.522594e+06</td>\n",
       "    </tr>\n",
       "    <tr>\n",
       "      <td>Canned</td>\n",
       "      <td>120.0</td>\n",
       "      <td>1.444151e+06</td>\n",
       "    </tr>\n",
       "    <tr>\n",
       "      <td>Baking Goods</td>\n",
       "      <td>119.0</td>\n",
       "      <td>1.265525e+06</td>\n",
       "    </tr>\n",
       "    <tr>\n",
       "      <td>Health and Hygiene</td>\n",
       "      <td>95.0</td>\n",
       "      <td>1.045200e+06</td>\n",
       "    </tr>\n",
       "    <tr>\n",
       "      <td>Meat</td>\n",
       "      <td>80.0</td>\n",
       "      <td>9.175656e+05</td>\n",
       "    </tr>\n",
       "    <tr>\n",
       "      <td>Soft Drinks</td>\n",
       "      <td>80.0</td>\n",
       "      <td>8.928977e+05</td>\n",
       "    </tr>\n",
       "    <tr>\n",
       "      <td>Breads</td>\n",
       "      <td>45.0</td>\n",
       "      <td>5.532372e+05</td>\n",
       "    </tr>\n",
       "    <tr>\n",
       "      <td>Hard Drinks</td>\n",
       "      <td>40.0</td>\n",
       "      <td>4.577934e+05</td>\n",
       "    </tr>\n",
       "    <tr>\n",
       "      <td>Others</td>\n",
       "      <td>30.0</td>\n",
       "      <td>3.255176e+05</td>\n",
       "    </tr>\n",
       "    <tr>\n",
       "      <td>Starchy Foods</td>\n",
       "      <td>30.0</td>\n",
       "      <td>3.514013e+05</td>\n",
       "    </tr>\n",
       "    <tr>\n",
       "      <td>Breakfast</td>\n",
       "      <td>20.0</td>\n",
       "      <td>2.322990e+05</td>\n",
       "    </tr>\n",
       "    <tr>\n",
       "      <td>Seafood</td>\n",
       "      <td>10.0</td>\n",
       "      <td>1.488682e+05</td>\n",
       "    </tr>\n",
       "  </tbody>\n",
       "</table>\n",
       "</div>"
      ],
      "text/plain": [
       "                       nu of items in every item_type  total sale by them\n",
       "Fruits and Vegetables                           220.0        2.820060e+06\n",
       "Snack Foods                                     220.0        2.732786e+06\n",
       "Household                                       170.0        2.055494e+06\n",
       "Frozen Foods                                    155.0        1.825735e+06\n",
       "Dairy                                           125.0        1.522594e+06\n",
       "Canned                                          120.0        1.444151e+06\n",
       "Baking Goods                                    119.0        1.265525e+06\n",
       "Health and Hygiene                               95.0        1.045200e+06\n",
       "Meat                                             80.0        9.175656e+05\n",
       "Soft Drinks                                      80.0        8.928977e+05\n",
       "Breads                                           45.0        5.532372e+05\n",
       "Hard Drinks                                      40.0        4.577934e+05\n",
       "Others                                           30.0        3.255176e+05\n",
       "Starchy Foods                                    30.0        3.514013e+05\n",
       "Breakfast                                        20.0        2.322990e+05\n",
       "Seafood                                          10.0        1.488682e+05"
      ]
     },
     "execution_count": 163,
     "metadata": {},
     "output_type": "execute_result"
    }
   ],
   "source": [
    "dict_ = {}\n",
    "for i in set(df['Item_Type']):\n",
    "    dict_[i] = [df[df['Item_Type'] == i]['Item_Identifier'].nunique(),df[df['Item_Type'] == i]['Item_Outlet_Sales'].sum()]\n",
    "temp =pd.DataFrame(dict_)\n",
    "temp = temp.T\n",
    "temp.rename(columns = {0:'nu of items in every item_type', 1: 'total sale by them'}, inplace = True)\n",
    "temp.sort_values(by=['nu of items in every item_type'], ascending = False )"
   ]
  },
  {
   "cell_type": "markdown",
   "metadata": {},
   "source": [
    "#### shi h yha jitne jyada verity h kissi item_type me utni hi total achi sale huee h "
   ]
  },
  {
   "cell_type": "code",
   "execution_count": 170,
   "metadata": {},
   "outputs": [],
   "source": [
    "df1['Item_Type'] = df1['Item_Type'].map(temp['nu of items in every item_type'].to_dict())"
   ]
  },
  {
   "cell_type": "code",
   "execution_count": 173,
   "metadata": {},
   "outputs": [],
   "source": [
    "df1['Outlet_Size'] = df1['Outlet_Size'].map((df1.groupby(['Outlet_Size'])['Item_Outlet_Sales'].sum()/df1.groupby(['Outlet_Size'])['Item_Outlet_Sales'].count()).to_dict())"
   ]
  },
  {
   "cell_type": "code",
   "execution_count": 174,
   "metadata": {},
   "outputs": [
    {
     "data": {
      "text/plain": [
       "Item_Outlet_Sales            1.000000\n",
       "Item_MRP                     0.567574\n",
       "Outlet_Size                  0.218555\n",
       "Outlet_Type                  0.122018\n",
       "Item_Type                    0.038250\n",
       "Item_Weight                  0.011550\n",
       "Outlet_Establishment_Year   -0.049135\n",
       "Item_Visibility             -0.128625\n",
       "Name: Item_Outlet_Sales, dtype: float64"
      ]
     },
     "execution_count": 174,
     "metadata": {},
     "output_type": "execute_result"
    }
   ],
   "source": [
    "df1.corr()['Item_Outlet_Sales'].sort_values(ascending = False)"
   ]
  },
  {
   "cell_type": "markdown",
   "metadata": {},
   "source": [
    "#### Not related diretly but by adding effect of outlet_size and location it has good relation"
   ]
  },
  {
   "cell_type": "code",
   "execution_count": 190,
   "metadata": {},
   "outputs": [],
   "source": [
    "df1['Outlet_size+Item_Type'] = df1['Outlet_Size'] + df1['Item_Type']"
   ]
  },
  {
   "cell_type": "code",
   "execution_count": 191,
   "metadata": {},
   "outputs": [
    {
     "data": {
      "text/plain": [
       "Item_Outlet_Sales            1.000000\n",
       "Item_MRP                     0.567574\n",
       "Outlet_size+Item_Type        0.221581\n",
       "Outlet_Size                  0.218555\n",
       "Outlet_Type                  0.122018\n",
       "Item_Type                    0.038250\n",
       "Item_Weight                  0.011550\n",
       "Outlet_Establishment_Year   -0.049135\n",
       "Item_Visibility             -0.128625\n",
       "Name: Item_Outlet_Sales, dtype: float64"
      ]
     },
     "execution_count": 191,
     "metadata": {},
     "output_type": "execute_result"
    }
   ],
   "source": [
    "df1.corr()['Item_Outlet_Sales'].sort_values(ascending = False)"
   ]
  },
  {
   "cell_type": "markdown",
   "metadata": {},
   "source": [
    "### Item_Location_Type\n",
    "Wo city jyada bdi and achi sale degi jga outlet jyada hoge or un outlet pr saman kitti trah ka milta h ho skta h glosery store hi ho 4 but saman me verity na ho to wo itta shi city nhi hoga\n",
    "\n",
    "Measure sale in location = nu of outlet in city * varity of items at every outlet"
   ]
  },
  {
   "cell_type": "code",
   "execution_count": 184,
   "metadata": {},
   "outputs": [
    {
     "data": {
      "text/plain": [
       "Outlet_Location_Type\n",
       "Tier 1    4.482059e+06\n",
       "Tier 2    6.472314e+06\n",
       "Tier 3    7.636753e+06\n",
       "Name: Item_Outlet_Sales, dtype: float64"
      ]
     },
     "execution_count": 184,
     "metadata": {},
     "output_type": "execute_result"
    }
   ],
   "source": [
    "df1.groupby(['Outlet_Location_Type'])['Item_Outlet_Sales'].sum()"
   ]
  },
  {
   "cell_type": "code",
   "execution_count": 205,
   "metadata": {},
   "outputs": [
    {
     "data": {
      "text/html": [
       "<div>\n",
       "<style scoped>\n",
       "    .dataframe tbody tr th:only-of-type {\n",
       "        vertical-align: middle;\n",
       "    }\n",
       "\n",
       "    .dataframe tbody tr th {\n",
       "        vertical-align: top;\n",
       "    }\n",
       "\n",
       "    .dataframe thead th {\n",
       "        text-align: right;\n",
       "    }\n",
       "</style>\n",
       "<table border=\"1\" class=\"dataframe\">\n",
       "  <thead>\n",
       "    <tr style=\"text-align: right;\">\n",
       "      <th></th>\n",
       "      <th>Outlet_Location_Type</th>\n",
       "      <th>Outlet_Identifier</th>\n",
       "      <th>Item_Identifier</th>\n",
       "    </tr>\n",
       "  </thead>\n",
       "  <tbody>\n",
       "    <tr>\n",
       "      <td>0</td>\n",
       "      <td>Tier 1</td>\n",
       "      <td>OUT019</td>\n",
       "      <td>528</td>\n",
       "    </tr>\n",
       "    <tr>\n",
       "      <td>1</td>\n",
       "      <td>Tier 1</td>\n",
       "      <td>OUT046</td>\n",
       "      <td>930</td>\n",
       "    </tr>\n",
       "    <tr>\n",
       "      <td>2</td>\n",
       "      <td>Tier 1</td>\n",
       "      <td>OUT049</td>\n",
       "      <td>930</td>\n",
       "    </tr>\n",
       "    <tr>\n",
       "      <td>3</td>\n",
       "      <td>Tier 2</td>\n",
       "      <td>OUT017</td>\n",
       "      <td>926</td>\n",
       "    </tr>\n",
       "    <tr>\n",
       "      <td>4</td>\n",
       "      <td>Tier 2</td>\n",
       "      <td>OUT035</td>\n",
       "      <td>930</td>\n",
       "    </tr>\n",
       "    <tr>\n",
       "      <td>5</td>\n",
       "      <td>Tier 2</td>\n",
       "      <td>OUT045</td>\n",
       "      <td>929</td>\n",
       "    </tr>\n",
       "    <tr>\n",
       "      <td>6</td>\n",
       "      <td>Tier 3</td>\n",
       "      <td>OUT010</td>\n",
       "      <td>555</td>\n",
       "    </tr>\n",
       "    <tr>\n",
       "      <td>7</td>\n",
       "      <td>Tier 3</td>\n",
       "      <td>OUT013</td>\n",
       "      <td>932</td>\n",
       "    </tr>\n",
       "    <tr>\n",
       "      <td>8</td>\n",
       "      <td>Tier 3</td>\n",
       "      <td>OUT018</td>\n",
       "      <td>928</td>\n",
       "    </tr>\n",
       "    <tr>\n",
       "      <td>9</td>\n",
       "      <td>Tier 3</td>\n",
       "      <td>OUT027</td>\n",
       "      <td>935</td>\n",
       "    </tr>\n",
       "  </tbody>\n",
       "</table>\n",
       "</div>"
      ],
      "text/plain": [
       "  Outlet_Location_Type Outlet_Identifier  Item_Identifier\n",
       "0               Tier 1            OUT019              528\n",
       "1               Tier 1            OUT046              930\n",
       "2               Tier 1            OUT049              930\n",
       "3               Tier 2            OUT017              926\n",
       "4               Tier 2            OUT035              930\n",
       "5               Tier 2            OUT045              929\n",
       "6               Tier 3            OUT010              555\n",
       "7               Tier 3            OUT013              932\n",
       "8               Tier 3            OUT018              928\n",
       "9               Tier 3            OUT027              935"
      ]
     },
     "execution_count": 205,
     "metadata": {},
     "output_type": "execute_result"
    }
   ],
   "source": [
    "df1.groupby(['Outlet_Location_Type','Outlet_Identifier'])['Item_Identifier'].count().reset_index()"
   ]
  },
  {
   "cell_type": "code",
   "execution_count": 209,
   "metadata": {},
   "outputs": [
    {
     "data": {
      "text/plain": [
       "Outlet_Location_Type\n",
       "Tier 1    3\n",
       "Tier 2    3\n",
       "Tier 3    4\n",
       "Name: Outlet_Identifier, dtype: int64"
      ]
     },
     "execution_count": 209,
     "metadata": {},
     "output_type": "execute_result"
    }
   ],
   "source": [
    "df1.groupby(['Outlet_Location_Type'])['Outlet_Identifier'].nunique()"
   ]
  },
  {
   "cell_type": "code",
   "execution_count": 218,
   "metadata": {},
   "outputs": [
    {
     "data": {
      "text/plain": [
       "Outlet_Location_Type\n",
       "Tier 1    2388\n",
       "Tier 2    2785\n",
       "Tier 3    3350\n",
       "Name: Item_Identifier, dtype: int64"
      ]
     },
     "execution_count": 218,
     "metadata": {},
     "output_type": "execute_result"
    }
   ],
   "source": [
    "df1.groupby(['Outlet_Location_Type','Outlet_Identifier'])['Item_Identifier'].count().reset_index().groupby('Outlet_Location_Type')['Item_Identifier'].sum()"
   ]
  },
  {
   "cell_type": "code",
   "execution_count": 219,
   "metadata": {},
   "outputs": [
    {
     "data": {
      "text/plain": [
       "Outlet_Location_Type\n",
       "Tier 1     7164\n",
       "Tier 2     8355\n",
       "Tier 3    13400\n",
       "dtype: int64"
      ]
     },
     "execution_count": 219,
     "metadata": {},
     "output_type": "execute_result"
    }
   ],
   "source": [
    "df1.groupby(['Outlet_Location_Type','Outlet_Identifier'])['Item_Identifier'].count().reset_index().groupby('Outlet_Location_Type')['Item_Identifier'].sum()*df1.groupby(['Outlet_Location_Type'])['Outlet_Identifier'].nunique()"
   ]
  },
  {
   "cell_type": "code",
   "execution_count": 221,
   "metadata": {},
   "outputs": [
    {
     "data": {
      "text/plain": [
       "Outlet_Location_Type\n",
       "Tier 1    4.482059e+06\n",
       "Tier 2    6.472314e+06\n",
       "Tier 3    7.636753e+06\n",
       "Name: Item_Outlet_Sales, dtype: float64"
      ]
     },
     "execution_count": 221,
     "metadata": {},
     "output_type": "execute_result"
    }
   ],
   "source": [
    "df1.groupby(['Outlet_Location_Type'])['Item_Outlet_Sales'].sum()"
   ]
  },
  {
   "cell_type": "markdown",
   "metadata": {},
   "source": [
    "#### so this hypothesis is true we can see total sale of every location is depends on nu of outlet and nu of verity in \n",
    "#### items at there outlets"
   ]
  },
  {
   "cell_type": "code",
   "execution_count": 228,
   "metadata": {},
   "outputs": [],
   "source": [
    "df1['Outlet_Location_Type'] = df1['Outlet_Location_Type'].map((df1.groupby(['Outlet_Location_Type','Outlet_Identifier'])['Item_Identifier'].count().reset_index().groupby('Outlet_Location_Type')['Item_Identifier'].sum()*df1.groupby(['Outlet_Location_Type'])['Outlet_Identifier'].nunique()).to_dict())"
   ]
  },
  {
   "cell_type": "code",
   "execution_count": null,
   "metadata": {},
   "outputs": [],
   "source": []
  },
  {
   "cell_type": "code",
   "execution_count": null,
   "metadata": {},
   "outputs": [],
   "source": []
  },
  {
   "cell_type": "code",
   "execution_count": null,
   "metadata": {},
   "outputs": [],
   "source": []
  },
  {
   "cell_type": "code",
   "execution_count": null,
   "metadata": {},
   "outputs": [],
   "source": []
  },
  {
   "cell_type": "code",
   "execution_count": null,
   "metadata": {},
   "outputs": [],
   "source": []
  },
  {
   "cell_type": "code",
   "execution_count": null,
   "metadata": {},
   "outputs": [],
   "source": []
  },
  {
   "cell_type": "code",
   "execution_count": null,
   "metadata": {},
   "outputs": [],
   "source": []
  },
  {
   "cell_type": "code",
   "execution_count": null,
   "metadata": {},
   "outputs": [],
   "source": []
  },
  {
   "cell_type": "code",
   "execution_count": null,
   "metadata": {},
   "outputs": [],
   "source": []
  },
  {
   "cell_type": "code",
   "execution_count": null,
   "metadata": {},
   "outputs": [],
   "source": []
  },
  {
   "cell_type": "code",
   "execution_count": null,
   "metadata": {},
   "outputs": [],
   "source": []
  },
  {
   "cell_type": "code",
   "execution_count": null,
   "metadata": {},
   "outputs": [],
   "source": []
  },
  {
   "cell_type": "code",
   "execution_count": null,
   "metadata": {},
   "outputs": [],
   "source": []
  },
  {
   "cell_type": "code",
   "execution_count": null,
   "metadata": {},
   "outputs": [],
   "source": []
  },
  {
   "cell_type": "code",
   "execution_count": null,
   "metadata": {},
   "outputs": [],
   "source": []
  },
  {
   "cell_type": "code",
   "execution_count": null,
   "metadata": {},
   "outputs": [],
   "source": []
  },
  {
   "cell_type": "code",
   "execution_count": null,
   "metadata": {},
   "outputs": [],
   "source": []
  },
  {
   "cell_type": "code",
   "execution_count": null,
   "metadata": {},
   "outputs": [],
   "source": []
  },
  {
   "cell_type": "code",
   "execution_count": null,
   "metadata": {},
   "outputs": [],
   "source": []
  },
  {
   "cell_type": "code",
   "execution_count": null,
   "metadata": {},
   "outputs": [],
   "source": []
  },
  {
   "cell_type": "code",
   "execution_count": null,
   "metadata": {},
   "outputs": [],
   "source": []
  },
  {
   "cell_type": "code",
   "execution_count": null,
   "metadata": {},
   "outputs": [],
   "source": []
  },
  {
   "cell_type": "code",
   "execution_count": null,
   "metadata": {},
   "outputs": [],
   "source": []
  },
  {
   "cell_type": "code",
   "execution_count": null,
   "metadata": {},
   "outputs": [],
   "source": []
  }
 ],
 "metadata": {
  "kernelspec": {
   "display_name": "Python 3",
   "language": "python",
   "name": "python3"
  },
  "language_info": {
   "codemirror_mode": {
    "name": "ipython",
    "version": 3
   },
   "file_extension": ".py",
   "mimetype": "text/x-python",
   "name": "python",
   "nbconvert_exporter": "python",
   "pygments_lexer": "ipython3",
   "version": "3.5.3"
  }
 },
 "nbformat": 4,
 "nbformat_minor": 2
}
